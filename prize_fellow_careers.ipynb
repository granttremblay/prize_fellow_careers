{
 "cells": [
  {
   "cell_type": "markdown",
   "metadata": {},
   "source": [
    "## Career Paths of NASA Prize Fellows\n",
    "\n",
    "Eric Bellm\n",
    "\n",
    "January 2016\n",
    "\n",
    "\\#hackAAS"
   ]
  },
  {
   "cell_type": "code",
   "execution_count": 16,
   "metadata": {
    "collapsed": true
   },
   "outputs": [],
   "source": [
    "from StringIO import StringIO\n",
    "import requests\n",
    "import pandas as pd\n",
    "import matplotlib.pyplot as plt\n",
    "import seaborn as sns\n",
    "%matplotlib inline"
   ]
  },
  {
   "cell_type": "markdown",
   "metadata": {},
   "source": [
    "Load the data from a Google Sheet.  You can view it and suggest edits [here](https://docs.google.com/spreadsheets/d/1EVYbK92kJre6aAnDzYVsj_EdpfG9a4qo2ZBjnnumME0/edit?usp=sharing).  \n",
    "\n",
    "The fellow names, years, and institutions are compiled from:\n",
    "\n",
    "[Hubble](http://www.stsci.edu/institute/smo/fellowships/hubble/fellows-list/)\n",
    "[Spitzer](http://irsa.ipac.caltech.edu/data/SPITZER/docs/spitzermission/communityprograms/spitzerfellows/)\n",
    "[Einstein](http://cxc.harvard.edu/fellows/allFellowsList.html)\n",
    "[Sagan](http://nexsci.caltech.edu/sagan/postdocRecipients.shtml)"
   ]
  },
  {
   "cell_type": "code",
   "execution_count": 11,
   "metadata": {
    "collapsed": true
   },
   "outputs": [],
   "source": [
    "r = requests.get('https://docs.google.com/spreadsheets/d/1EVYbK92kJre6aAnDzYVsj_EdpfG9a4qo2ZBjnnumME0/export?format=csv')\n",
    "data = r.content"
   ]
  },
  {
   "cell_type": "code",
   "execution_count": 12,
   "metadata": {
    "collapsed": true
   },
   "outputs": [],
   "source": [
    "df = pd.read_csv(StringIO(data))"
   ]
  },
  {
   "cell_type": "code",
   "execution_count": 13,
   "metadata": {
    "collapsed": false
   },
   "outputs": [
    {
     "data": {
      "text/plain": [
       "Index([u'Fellowship Year', u'Fellowship', u'Name', u'PhD Institution',\n",
       "       u'PhD Year', u'Host Institution', u'Gender', u'Previous Position',\n",
       "       u'Previous Institution', u'Next Position', u'Next Institution',\n",
       "       u'Start of Next Position', u'Current Position', u'Current Institution'],\n",
       "      dtype='object')"
      ]
     },
     "execution_count": 13,
     "metadata": {},
     "output_type": "execute_result"
    }
   ],
   "source": [
    "df.columns"
   ]
  },
  {
   "cell_type": "markdown",
   "metadata": {},
   "source": [
    "Set up some plotting preferences:"
   ]
  },
  {
   "cell_type": "code",
   "execution_count": 23,
   "metadata": {
    "collapsed": false
   },
   "outputs": [],
   "source": [
    "sns.set_style('ticks')\n",
    "\n",
    "def outside_legend():\n",
    "    # Shink current axis by 20%\n",
    "    ax=plt.gca()\n",
    "    box = ax.get_position()\n",
    "    ax.set_position([box.x0, box.y0, box.width * 0.8, box.height])\n",
    "    # Put a legend to the right of the current axis\n",
    "    lgd = ax.legend(loc='center left', bbox_to_anchor=(1, 0.5))\n",
    "    return lgd"
   ]
  },
  {
   "cell_type": "code",
   "execution_count": 22,
   "metadata": {
    "collapsed": false
   },
   "outputs": [
    {
     "data": {
      "text/plain": [
       "<matplotlib.legend.Legend at 0x119582c50>"
      ]
     },
     "execution_count": 22,
     "metadata": {},
     "output_type": "execute_result"
    },
    {
     "data": {
      "image/png": "[encoded data removed]",
      "text/plain": [
       "<matplotlib.figure.Figure at 0x119508790>"
      ]
     },
     "metadata": {},
     "output_type": "display_data"
    }
   ],
   "source": [
    "sns.barplot(x='Fellowship Year',data=df,hue=\"Fellowship\")\n",
    "sns.despine()\n",
    "outside_legend()"
   ]
  },
  {
   "cell_type": "code",
   "execution_count": null,
   "metadata": {
    "collapsed": true
   },
   "outputs": [],
   "source": []
  }
 ],
 "metadata": {
  "kernelspec": {
   "display_name": "Python 2",
   "language": "python",
   "name": "python2"
  },
  "language_info": {
   "codemirror_mode": {
    "name": "ipython",
    "version": 2
   },
   "file_extension": ".py",
   "mimetype": "text/x-python",
   "name": "python",
   "nbconvert_exporter": "python",
   "pygments_lexer": "ipython2",
   "version": "2.7.11"
  }
 },
 "nbformat": 4,
 "nbformat_minor": 0
}
